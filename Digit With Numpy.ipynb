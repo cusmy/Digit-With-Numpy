{
 "cells": [
  {
   "cell_type": "code",
   "execution_count": 26,
   "id": "9e5af931",
   "metadata": {},
   "outputs": [],
   "source": [
    "import numpy as np\n",
    "import pandas as pd\n",
    "from matplotlib import pyplot as plt"
   ]
  },
  {
   "cell_type": "code",
   "execution_count": 27,
   "id": "e5d7c65f",
   "metadata": {},
   "outputs": [],
   "source": [
    "data = pd.read_csv('train.csv')"
   ]
  },
  {
   "cell_type": "code",
   "execution_count": 28,
   "id": "590c0d54",
   "metadata": {},
   "outputs": [],
   "source": [
    "data = np.array(data)\n",
    "m, n = data.shape\n",
    "np.random.shuffle(data)\n",
    "\n",
    "data_dev = data[0:1000].T\n",
    "Y_dev = data_dev[0]\n",
    "X_dev = data_dev[1:n]\n",
    "X_dev = X_dev / 255.\n",
    "\n",
    "data_train = data[1000:m].T\n",
    "Y_train = data_train[0]\n",
    "X_train = data_train[1:n]\n",
    "X_train = X_train / 255.\n",
    "_,m_train = X_train.shape"
   ]
  },
  {
   "cell_type": "code",
   "execution_count": 29,
   "id": "f86ebf79",
   "metadata": {},
   "outputs": [
    {
     "data": {
      "text/plain": [
       "array([0, 2, 2, ..., 1, 6, 3], dtype=int64)"
      ]
     },
     "execution_count": 29,
     "metadata": {},
     "output_type": "execute_result"
    }
   ],
   "source": [
    "Y_train"
   ]
  },
  {
   "cell_type": "code",
   "execution_count": 30,
   "id": "fc2c9f46",
   "metadata": {},
   "outputs": [],
   "source": [
    "def init_param():\n",
    "    W1 = np.random.rand(10, 784) - 0.5\n",
    "    b1 = np.random.rand(10, 1) - 0.5\n",
    "    W2 = np.random.rand(10, 10) - 0.5\n",
    "    b2 = np.random.rand(10, 1) - 0.5\n",
    "    return W1, b1, W2, b2"
   ]
  },
  {
   "cell_type": "code",
   "execution_count": 31,
   "id": "4d9da0c2",
   "metadata": {},
   "outputs": [],
   "source": [
    "def relu(Z):\n",
    "    return np.maximum(Z, 0)"
   ]
  },
  {
   "cell_type": "code",
   "execution_count": 32,
   "id": "d1fabe2a",
   "metadata": {},
   "outputs": [],
   "source": [
    "def softmax(Z):\n",
    "    A = np.exp(Z) / sum(np.exp(Z))\n",
    "    return A"
   ]
  },
  {
   "cell_type": "code",
   "execution_count": 33,
   "id": "eef1212d",
   "metadata": {},
   "outputs": [],
   "source": [
    "def forward_prop(W1, b1, W2, b2, X):\n",
    "    Z1 = W1.dot(X) + b1\n",
    "    A1 = relu(Z1)\n",
    "    Z2 = W2.dot(A1) + b2\n",
    "    A2 = softmax(Z2)\n",
    "    return Z1, A1, Z2, A2"
   ]
  },
  {
   "cell_type": "code",
   "execution_count": 34,
   "id": "9857746f",
   "metadata": {},
   "outputs": [],
   "source": [
    "def activasi_relu(Z):\n",
    "    return Z > 0"
   ]
  },
  {
   "cell_type": "code",
   "execution_count": 35,
   "id": "7aaad276",
   "metadata": {},
   "outputs": [],
   "source": [
    "def one_hot(Y):\n",
    "    one_hot_Y = np.zeros((Y.size, Y.max() + 1))\n",
    "    one_hot_Y[np.arange(Y.size), Y] = 1\n",
    "    one_hot_Y = one_hot_Y.T\n",
    "    return one_hot_Y"
   ]
  },
  {
   "cell_type": "code",
   "execution_count": 36,
   "id": "59ddb51e",
   "metadata": {},
   "outputs": [],
   "source": [
    "def backward_prop(Z1, A1, Z2, A2, W1, W2, X, Y):\n",
    "    one_hot_Y = one_hot(Y)\n",
    "    dZ2 = A2 - one_hot_Y\n",
    "    dW2 = 1 / m * dZ2.dot(A1.T)\n",
    "    db2 = 1 / m * np.sum(dZ2)\n",
    "    dZ1 = W2.T.dot(dZ2) * activasi_relu(Z1)\n",
    "    dW1 = 1 / m * dZ1.dot(X.T)\n",
    "    db1 = 1 / m * np.sum(dZ1)\n",
    "    return dW1, db1, dW2, db2"
   ]
  },
  {
   "cell_type": "code",
   "execution_count": 37,
   "id": "d81dc955",
   "metadata": {},
   "outputs": [],
   "source": [
    "def update_param(W1, b1, W2, b2, dW1, db1, dW2, db2, alpha):\n",
    "    W1 = W1 - alpha * dW1\n",
    "    b1 = b1 - alpha * db1    \n",
    "    W2 = W2 - alpha * dW2  \n",
    "    b2 = b2 - alpha * db2    \n",
    "    return W1, b1, W2, b2"
   ]
  },
  {
   "cell_type": "code",
   "execution_count": 38,
   "id": "29f7153e",
   "metadata": {},
   "outputs": [],
   "source": [
    "def predik(A2):\n",
    "    return np.argmax(A2, 0)"
   ]
  },
  {
   "cell_type": "code",
   "execution_count": 39,
   "id": "d128b7f1",
   "metadata": {},
   "outputs": [],
   "source": [
    "def akurasi(prediksi, Y):\n",
    "    print(prediksi, Y)\n",
    "    return np.sum(prediksi == Y) / Y.size"
   ]
  },
  {
   "cell_type": "code",
   "execution_count": 40,
   "id": "cfce78c1",
   "metadata": {},
   "outputs": [],
   "source": [
    "def gradient_descent(X, Y, alpha, iterasi):\n",
    "    W1, b1, W2, b2 = init_param()\n",
    "    for i in range(iterasi):\n",
    "        Z1, A1, Z2, A2 = forward_prop(W1, b1, W2, b2, X)\n",
    "        dW1, db1, dW2, db2 = backward_prop(Z1, A1, Z2, A2, W1, W2, X, Y)\n",
    "        W1, b1, W2, b2 = update_param(W1, b1, W2, b2, dW1, db1, dW2, db2, alpha)\n",
    "        if i % 10 == 0:\n",
    "            print(\"Iteration: \", i)\n",
    "            prediksi = predik(A2)\n",
    "            print(akurasi(prediksi, Y))\n",
    "    return W1, b1, W2, b2"
   ]
  },
  {
   "cell_type": "code",
   "execution_count": 41,
   "id": "82073e5c",
   "metadata": {},
   "outputs": [
    {
     "name": "stdout",
     "output_type": "stream",
     "text": [
      "Iteration:  0\n",
      "[8 8 0 ... 7 6 6] [0 2 2 ... 1 6 3]\n",
      "0.06348780487804878\n",
      "Iteration:  10\n",
      "[5 0 1 ... 1 6 6] [0 2 2 ... 1 6 3]\n",
      "0.1649268292682927\n",
      "Iteration:  20\n",
      "[5 1 1 ... 1 6 6] [0 2 2 ... 1 6 3]\n",
      "0.21714634146341463\n",
      "Iteration:  30\n",
      "[5 0 1 ... 1 5 6] [0 2 2 ... 1 6 3]\n",
      "0.25734146341463415\n",
      "Iteration:  40\n",
      "[2 0 1 ... 1 5 6] [0 2 2 ... 1 6 3]\n",
      "0.29165853658536584\n",
      "Iteration:  50\n",
      "[2 0 1 ... 1 9 6] [0 2 2 ... 1 6 3]\n",
      "0.34139024390243905\n",
      "Iteration:  60\n",
      "[2 3 1 ... 1 9 6] [0 2 2 ... 1 6 3]\n",
      "0.3853658536585366\n",
      "Iteration:  70\n",
      "[2 3 1 ... 1 9 6] [0 2 2 ... 1 6 3]\n",
      "0.4271463414634146\n",
      "Iteration:  80\n",
      "[2 2 1 ... 1 4 6] [0 2 2 ... 1 6 3]\n",
      "0.46239024390243905\n",
      "Iteration:  90\n",
      "[2 2 1 ... 1 4 6] [0 2 2 ... 1 6 3]\n",
      "0.4965121951219512\n",
      "Iteration:  100\n",
      "[2 2 1 ... 1 4 6] [0 2 2 ... 1 6 3]\n",
      "0.5264878048780488\n",
      "Iteration:  110\n",
      "[2 2 1 ... 1 4 6] [0 2 2 ... 1 6 3]\n",
      "0.5559024390243903\n",
      "Iteration:  120\n",
      "[2 2 1 ... 1 4 6] [0 2 2 ... 1 6 3]\n",
      "0.5836097560975609\n",
      "Iteration:  130\n",
      "[2 2 1 ... 1 4 6] [0 2 2 ... 1 6 3]\n",
      "0.6101219512195122\n",
      "Iteration:  140\n",
      "[2 2 1 ... 1 4 6] [0 2 2 ... 1 6 3]\n",
      "0.6312439024390244\n",
      "Iteration:  150\n",
      "[2 2 1 ... 1 6 6] [0 2 2 ... 1 6 3]\n",
      "0.649390243902439\n",
      "Iteration:  160\n",
      "[2 2 1 ... 1 6 6] [0 2 2 ... 1 6 3]\n",
      "0.6659512195121952\n",
      "Iteration:  170\n",
      "[2 2 1 ... 1 6 5] [0 2 2 ... 1 6 3]\n",
      "0.679609756097561\n",
      "Iteration:  180\n",
      "[2 2 1 ... 1 6 5] [0 2 2 ... 1 6 3]\n",
      "0.6924146341463414\n",
      "Iteration:  190\n",
      "[2 2 1 ... 1 6 5] [0 2 2 ... 1 6 3]\n",
      "0.7027317073170731\n",
      "Iteration:  200\n",
      "[2 2 1 ... 1 6 5] [0 2 2 ... 1 6 3]\n",
      "0.7116829268292683\n",
      "Iteration:  210\n",
      "[2 2 1 ... 1 6 5] [0 2 2 ... 1 6 3]\n",
      "0.7202439024390244\n",
      "Iteration:  220\n",
      "[2 2 1 ... 1 6 5] [0 2 2 ... 1 6 3]\n",
      "0.727390243902439\n",
      "Iteration:  230\n",
      "[2 2 1 ... 1 6 5] [0 2 2 ... 1 6 3]\n",
      "0.7345365853658536\n",
      "Iteration:  240\n",
      "[2 2 1 ... 1 6 5] [0 2 2 ... 1 6 3]\n",
      "0.7404634146341463\n",
      "Iteration:  250\n",
      "[2 2 1 ... 1 6 5] [0 2 2 ... 1 6 3]\n",
      "0.746780487804878\n",
      "Iteration:  260\n",
      "[2 2 1 ... 1 6 5] [0 2 2 ... 1 6 3]\n",
      "0.7520731707317073\n",
      "Iteration:  270\n",
      "[2 2 1 ... 1 6 5] [0 2 2 ... 1 6 3]\n",
      "0.7569268292682927\n",
      "Iteration:  280\n",
      "[2 2 1 ... 1 6 5] [0 2 2 ... 1 6 3]\n",
      "0.7622926829268293\n",
      "Iteration:  290\n",
      "[2 2 1 ... 1 6 5] [0 2 2 ... 1 6 3]\n",
      "0.7674146341463415\n",
      "Iteration:  300\n",
      "[2 2 1 ... 1 6 5] [0 2 2 ... 1 6 3]\n",
      "0.7718780487804878\n",
      "Iteration:  310\n",
      "[2 2 1 ... 1 6 5] [0 2 2 ... 1 6 3]\n",
      "0.7759024390243903\n",
      "Iteration:  320\n",
      "[2 2 1 ... 1 6 5] [0 2 2 ... 1 6 3]\n",
      "0.7790487804878049\n",
      "Iteration:  330\n",
      "[6 2 1 ... 1 6 5] [0 2 2 ... 1 6 3]\n",
      "0.782219512195122\n",
      "Iteration:  340\n",
      "[6 2 1 ... 1 6 5] [0 2 2 ... 1 6 3]\n",
      "0.7854878048780488\n",
      "Iteration:  350\n",
      "[6 2 1 ... 1 6 5] [0 2 2 ... 1 6 3]\n",
      "0.7882682926829269\n",
      "Iteration:  360\n",
      "[6 2 1 ... 1 6 5] [0 2 2 ... 1 6 3]\n",
      "0.7910487804878049\n",
      "Iteration:  370\n",
      "[6 2 1 ... 1 6 5] [0 2 2 ... 1 6 3]\n",
      "0.7942439024390244\n",
      "Iteration:  380\n",
      "[6 2 1 ... 1 6 5] [0 2 2 ... 1 6 3]\n",
      "0.7973170731707317\n",
      "Iteration:  390\n",
      "[6 2 1 ... 1 6 5] [0 2 2 ... 1 6 3]\n",
      "0.7998780487804878\n",
      "Iteration:  400\n",
      "[6 2 1 ... 1 6 5] [0 2 2 ... 1 6 3]\n",
      "0.8028780487804879\n",
      "Iteration:  410\n",
      "[6 2 1 ... 1 6 5] [0 2 2 ... 1 6 3]\n",
      "0.804829268292683\n",
      "Iteration:  420\n",
      "[6 2 1 ... 1 6 5] [0 2 2 ... 1 6 3]\n",
      "0.8070243902439025\n",
      "Iteration:  430\n",
      "[6 2 1 ... 1 6 5] [0 2 2 ... 1 6 3]\n",
      "0.8091951219512196\n",
      "Iteration:  440\n",
      "[6 2 1 ... 1 6 5] [0 2 2 ... 1 6 3]\n",
      "0.8111219512195122\n",
      "Iteration:  450\n",
      "[6 2 1 ... 1 6 5] [0 2 2 ... 1 6 3]\n",
      "0.8132195121951219\n",
      "Iteration:  460\n",
      "[6 2 1 ... 1 6 5] [0 2 2 ... 1 6 3]\n",
      "0.8151951219512195\n",
      "Iteration:  470\n",
      "[6 2 1 ... 1 6 5] [0 2 2 ... 1 6 3]\n",
      "0.8174634146341463\n",
      "Iteration:  480\n",
      "[6 2 1 ... 1 6 5] [0 2 2 ... 1 6 3]\n",
      "0.8188048780487804\n",
      "Iteration:  490\n",
      "[6 2 1 ... 1 6 5] [0 2 2 ... 1 6 3]\n",
      "0.8204146341463414\n"
     ]
    }
   ],
   "source": [
    "W1, b1, W2, b2 = gradient_descent(X_train, Y_train, 0.10, 500)"
   ]
  },
  {
   "cell_type": "code",
   "execution_count": 42,
   "id": "5eb71f73",
   "metadata": {},
   "outputs": [],
   "source": [
    "def make_prediksi(X, W1, b1, W2, b2):\n",
    "    _, _, _, A2 = forward_prop(W1, b1, W2, b2, X)\n",
    "    prediksi = predik(A2)\n",
    "    return prediksi"
   ]
  },
  {
   "cell_type": "code",
   "execution_count": 45,
   "id": "ac25b11e",
   "metadata": {},
   "outputs": [],
   "source": [
    "def test_prediksi(index, W1, b1, W2, b2):\n",
    "    current_image = X_train[:, index, None]\n",
    "    prediksi = make_prediksi(X_train[:, index, None], W1, b1, W2, b2)\n",
    "    label = Y_train[index]\n",
    "    print(\"Prediction: \", prediksi)\n",
    "    print(\"Label: \", label)\n",
    "    \n",
    "    \n",
    "    current_image = current_image.reshape((28, 28)) * 255\n",
    "    plt.gray()\n",
    "    plt.imshow(current_image, interpolation='nearest')\n",
    "    plt.show()"
   ]
  },
  {
   "cell_type": "code",
   "execution_count": 46,
   "id": "3625a882",
   "metadata": {},
   "outputs": [
    {
     "name": "stdout",
     "output_type": "stream",
     "text": [
      "Prediction:  [5]\n",
      "Label:  5\n"
     ]
    },
    {
     "data": {
      "image/png": "[encoded data removed]",
      "text/plain": [
       "<Figure size 432x288 with 1 Axes>"
      ]
     },
     "metadata": {
      "needs_background": "light"
     },
     "output_type": "display_data"
    }
   ],
   "source": [
    "test_prediksi(7, W1, b1, W2, b2)"
   ]
  },
  {
   "cell_type": "code",
   "execution_count": 47,
   "id": "b39dd05c",
   "metadata": {},
   "outputs": [
    {
     "name": "stdout",
     "output_type": "stream",
     "text": [
      "[3 8 8 4 2 7 2 4 4 8 8 1 6 9 9 8 2 7 7 3 1 8 4 8 3 0 6 3 7 3 8 9 1 9 6 4 1\n",
      " 5 1 3 9 0 7 0 3 0 1 3 1 5 3 7 9 9 2 7 1 9 1 7 1 7 1 7 3 0 7 3 1 9 6 6 9 9\n",
      " 2 0 9 5 3 5 6 0 7 8 5 2 3 1 0 8 9 7 6 3 9 9 6 3 1 0 3 1 0 9 6 1 7 8 0 2 5\n",
      " 8 1 7 0 0 7 7 9 3 3 6 6 7 9 6 0 6 1 7 5 9 0 9 4 0 5 9 4 4 6 9 0 5 3 1 2 9\n",
      " 3 3 3 6 4 4 3 7 8 1 3 9 9 0 4 8 3 7 4 7 3 7 5 2 1 4 9 6 5 3 2 4 8 2 7 0 2\n",
      " 1 3 4 9 1 0 6 9 7 5 1 1 9 1 6 6 9 3 1 2 5 1 9 3 2 0 7 7 2 1 2 4 1 8 9 1 0\n",
      " 2 1 5 0 8 3 6 6 0 5 8 3 6 7 1 7 3 3 3 6 4 4 6 3 9 9 4 8 7 2 2 6 3 1 0 3 2\n",
      " 0 1 9 1 9 0 1 7 0 7 0 4 2 8 3 7 5 6 9 3 5 6 0 6 3 4 2 1 8 1 7 3 5 3 4 7 5\n",
      " 6 1 7 3 7 9 7 2 2 2 2 0 6 3 1 2 4 7 9 7 0 8 1 1 3 4 2 4 4 0 3 7 3 6 8 5 3\n",
      " 7 0 0 8 5 2 6 5 7 3 0 3 6 5 7 3 4 3 6 4 3 3 7 9 5 8 1 4 4 3 7 6 9 7 5 2 4\n",
      " 0 0 1 7 3 8 8 2 9 1 9 1 2 5 5 2 6 5 0 0 1 0 1 1 6 1 6 1 1 7 6 6 0 7 4 1 1\n",
      " 6 0 1 4 1 6 2 3 0 2 3 8 3 5 6 6 6 1 8 2 9 2 9 5 7 9 1 6 6 9 8 0 9 8 0 3 9\n",
      " 6 8 0 2 8 3 7 1 4 6 5 9 4 9 3 2 9 1 4 4 4 3 4 3 6 4 3 8 5 2 9 0 1 0 4 8 3\n",
      " 8 4 9 6 2 3 3 5 1 4 5 2 0 1 2 0 1 1 9 6 0 8 4 8 7 4 4 4 9 9 9 5 7 6 4 1 8\n",
      " 5 4 8 8 4 7 6 6 2 9 0 1 4 5 1 0 9 5 2 8 8 9 0 5 6 4 5 6 7 7 6 2 9 0 0 9 8\n",
      " 5 0 7 2 3 4 8 9 2 8 4 7 3 5 1 4 7 9 6 4 6 7 5 2 6 5 5 9 2 7 3 1 3 6 7 2 4\n",
      " 6 3 9 2 1 7 1 9 3 7 7 0 7 7 3 8 7 5 7 9 1 7 8 6 8 1 7 0 0 2 0 0 5 4 1 1 4\n",
      " 8 4 1 6 6 7 1 7 2 3 4 7 2 7 0 3 8 9 1 3 2 4 4 0 5 9 4 1 3 9 8 4 0 9 6 9 1\n",
      " 1 9 8 0 4 6 9 0 4 9 5 9 5 4 1 5 9 2 7 1 4 7 0 4 9 1 4 6 4 5 3 0 4 3 0 9 6\n",
      " 9 7 0 2 7 4 4 0 1 9 6 3 4 8 3 7 4 9 9 2 8 8 6 9 4 8 6 9 6 3 0 8 0 5 2 9 0\n",
      " 4 4 8 9 2 7 3 0 6 4 4 5 0 1 3 0 3 8 1 7 2 8 1 9 9 2 3 4 6 3 3 4 7 3 2 6 2\n",
      " 1 1 8 9 8 1 3 7 6 7 2 9 4 1 2 5 0 6 5 6 5 2 5 4 2 0 1 9 0 3 8 6 7 3 8 9 1\n",
      " 4 7 2 7 7 1 4 7 4 8 0 9 2 3 5 9 3 7 5 7 3 0 1 9 9 4 0 9 7 6 1 6 7 7 4 4 5\n",
      " 7 7 2 2 0 9 6 8 3 4 4 4 1 4 4 0 7 3 0 7 3 2 9 0 3 5 2 3 1 6 0 5 3 0 7 7 8\n",
      " 7 0 4 4 2 9 7 0 8 5 7 9 2 6 9 1 2 4 5 0 8 2 6 4 5 4 0 3 4 2 8 4 4 6 2 5 6\n",
      " 9 1 5 4 6 7 0 3 8 7 7 7 8 5 8 7 7 6 5 2 6 8 4 2 4 6 6 8 2 8 8 3 0 5 2 0 0\n",
      " 6 7 6 7 5 4 7 5 4 6 8 8 3 9 5 2 9 1 2 8 9 0 3 3 5 5 0 1 1 0 0 1 1 0 6 1 0\n",
      " 7] [3 8 5 4 2 7 2 4 4 8 8 1 6 9 9 2 3 7 7 3 1 8 4 8 5 9 6 3 7 3 5 9 1 9 6 4 2\n",
      " 5 1 3 9 0 7 0 3 0 1 3 1 3 3 7 9 9 2 8 1 9 1 7 1 9 1 7 5 0 7 2 1 9 6 6 9 9\n",
      " 2 0 7 6 3 5 6 0 7 5 3 2 1 1 0 8 9 7 2 3 9 9 6 3 1 0 3 1 0 9 6 1 7 9 0 2 5\n",
      " 8 1 2 0 0 7 7 9 3 3 6 6 7 9 6 0 5 1 3 5 9 0 8 4 0 5 9 4 9 6 5 0 6 3 1 2 9\n",
      " 3 3 3 6 7 9 3 7 8 1 5 9 9 0 4 8 3 7 4 9 3 7 5 2 1 4 9 0 5 3 2 7 2 2 9 0 0\n",
      " 1 3 4 9 1 0 6 8 7 5 7 1 9 1 6 6 9 3 1 2 5 1 9 3 2 0 7 9 2 1 0 5 1 8 9 1 0\n",
      " 2 1 5 0 8 3 6 5 0 5 8 3 6 7 1 7 8 3 9 6 4 4 6 3 9 9 6 8 7 2 2 6 3 1 0 3 2\n",
      " 0 3 9 1 9 0 1 7 0 7 0 4 3 8 3 7 5 6 7 3 5 6 0 6 3 4 2 1 8 1 7 3 5 3 4 7 2\n",
      " 6 1 7 3 3 9 7 2 2 3 3 6 6 8 1 2 4 7 8 7 0 8 1 1 3 9 2 4 4 0 5 9 3 2 8 5 1\n",
      " 7 0 0 8 5 2 6 5 7 3 0 3 6 5 7 3 4 3 6 4 3 3 7 3 5 8 1 4 4 5 7 6 9 7 5 2 4\n",
      " 0 0 1 7 7 1 8 2 4 1 9 1 2 5 5 2 6 5 0 0 1 0 1 1 6 1 6 5 1 3 2 6 0 7 9 1 1\n",
      " 6 0 1 4 1 4 2 3 0 2 3 5 3 6 6 6 6 1 8 2 4 2 9 5 7 9 7 6 6 9 8 0 9 2 0 3 9\n",
      " 6 5 0 2 3 3 7 1 5 5 5 8 4 9 3 2 8 1 8 4 4 3 4 3 6 9 3 8 5 2 9 0 1 0 4 8 3\n",
      " 9 4 7 6 2 3 1 5 1 4 5 2 0 1 2 0 1 1 9 6 0 8 4 8 9 4 4 4 9 7 9 5 7 6 4 1 6\n",
      " 5 4 9 8 2 7 6 4 2 9 0 1 4 5 1 0 9 5 2 5 8 9 0 3 6 4 5 6 7 7 6 2 7 0 0 9 8\n",
      " 5 0 9 6 3 4 8 9 4 8 4 7 3 3 1 4 7 9 6 4 6 7 3 2 6 5 5 9 3 7 3 1 3 2 7 2 4\n",
      " 5 3 4 2 1 7 1 7 3 7 7 0 7 7 3 8 7 5 9 9 1 9 8 6 8 1 3 0 0 2 0 0 5 4 1 1 4\n",
      " 8 4 1 6 6 7 1 7 2 3 4 7 2 7 0 3 8 9 3 3 2 4 4 5 5 8 4 2 3 9 8 4 0 9 6 9 1\n",
      " 1 9 5 0 4 6 9 0 4 9 5 5 5 4 1 5 9 2 7 1 4 7 0 4 9 1 4 6 4 5 3 0 4 3 0 9 6\n",
      " 8 7 0 2 3 4 4 0 1 9 6 3 4 8 3 9 4 9 9 2 9 8 6 9 4 8 6 7 6 3 0 8 0 5 2 9 0\n",
      " 9 4 5 7 2 7 3 0 6 4 4 5 0 1 5 0 3 8 1 7 2 8 1 9 7 2 3 4 6 3 3 4 7 8 2 6 2\n",
      " 1 1 8 4 8 1 3 7 6 7 8 9 4 1 2 5 0 6 5 5 5 2 5 5 2 0 1 9 0 3 8 6 9 1 8 9 1\n",
      " 4 7 2 7 7 1 9 7 4 8 0 9 5 3 5 9 3 7 5 7 3 0 3 9 9 4 0 9 7 6 1 6 7 7 4 7 5\n",
      " 7 7 4 3 0 4 6 8 3 9 4 4 1 4 4 0 7 3 0 7 3 2 4 0 3 5 2 9 1 6 0 5 3 0 7 9 0\n",
      " 7 0 4 9 2 7 7 0 2 5 7 9 3 6 7 1 2 4 5 0 8 2 6 4 5 4 0 5 4 2 8 4 4 6 2 5 6\n",
      " 9 8 5 4 6 7 0 3 8 7 7 7 8 5 8 7 7 5 5 2 6 8 4 2 4 6 6 6 2 8 8 5 0 5 6 0 0\n",
      " 6 7 6 7 6 4 7 6 4 6 8 4 3 9 5 6 9 1 2 8 9 0 3 3 5 5 2 1 1 0 0 8 1 0 6 1 0\n",
      " 7]\n"
     ]
    },
    {
     "data": {
      "text/plain": [
       "0.841"
      ]
     },
     "execution_count": 47,
     "metadata": {},
     "output_type": "execute_result"
    }
   ],
   "source": [
    "dev_predik = make_prediksi(X_dev, W1, b1, W2, b2)\n",
    "akurasi(dev_predik, Y_dev)"
   ]
  },
  {
   "cell_type": "code",
   "execution_count": null,
   "id": "6ac4b5bb",
   "metadata": {},
   "outputs": [],
   "source": []
  }
 ],
 "metadata": {
  "kernelspec": {
   "display_name": "Python 3",
   "language": "python",
   "name": "python3"
  },
  "language_info": {
   "codemirror_mode": {
    "name": "ipython",
    "version": 3
   },
   "file_extension": ".py",
   "mimetype": "text/x-python",
   "name": "python",
   "nbconvert_exporter": "python",
   "pygments_lexer": "ipython3",
   "version": "3.8.3"
  }
 },
 "nbformat": 4,
 "nbformat_minor": 5
}
